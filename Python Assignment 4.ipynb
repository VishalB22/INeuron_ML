{
 "cells": [
  {
   "cell_type": "markdown",
   "metadata": {},
   "source": [
    "1.1 Write a Python Program(with class concepts) to find the area of the triangle using the below formula.\n",
    "area = (s*(s-a)*(s-b)*(s-c)) ** 0.5\n",
    "Function to take the length of the sides of triangle from user should be defined in the parent class and function to calculate the area should be defined in subclass."
   ]
  },
  {
   "cell_type": "code",
   "execution_count": null,
   "metadata": {},
   "outputs": [],
   "source": [
    "# Parent class with function to input length of sides\n",
    "class sides:\n",
    "    def __init__(self):\n",
    "        self.lst = list()\n",
    "    def input_sides(self): \n",
    "        for i in range(1,4):\n",
    "            k = float(input('enter side'+str(i)+\":\"))\n",
    "            self.lst.append(k)\n",
    "# Base class to calculate area of the traingle\n",
    "class area(sides):\n",
    "    def __init__(self):\n",
    "        sides.__init__(self)\n",
    "    def cal_area(self):\n",
    "        a, b, c = self.lst\n",
    "        s = (a+b+c)/2\n",
    "        area = (s*(s-a)*(s-b)*(s-c))**0.5\n",
    "        return area"
   ]
  },
  {
   "cell_type": "code",
   "execution_count": null,
   "metadata": {},
   "outputs": [],
   "source": [
    "# creating object of the class\n",
    "t = area()\n",
    "t.input_sides()\n",
    "print(\"the area of Traingle:\",t.cal_area())"
   ]
  },
  {
   "cell_type": "markdown",
   "metadata": {},
   "source": [
    "1.2 Write a function filter_long_words() that takes a list of words and an integer n and returns the list of words that are longer than n."
   ]
  },
  {
   "cell_type": "code",
   "execution_count": null,
   "metadata": {},
   "outputs": [],
   "source": [
    "def filter_long_words(lst,n):\n",
    "    rlst = list()\n",
    "    for i in lst:\n",
    "        if len(i)>n:\n",
    "            rlst.append(i)\n",
    "    return rlst\n",
    "#unfiltered list l\n",
    "l = ['samay','tanmay','rider','provider','bye']\n",
    "# printing filtered list of words whose greater than 5\n",
    "print(\"filtered list:\",filter_long_words(l,5))"
   ]
  },
  {
   "cell_type": "markdown",
   "metadata": {},
   "source": [
    "2.1 Write a Python program using function concept that maps list of words into a list of integers representing the lengths of the corresponding words.\n",
    "Hint: If a list [ ab,cde,erty] is passed on to the python function output should come as [2,3,4] Here 2,3 and 4 are the lengths of the words in the list."
   ]
  },
  {
   "cell_type": "code",
   "execution_count": null,
   "metadata": {},
   "outputs": [],
   "source": [
    "def maplist_len(lst):\n",
    "    rlst = list()\n",
    "    for i in lst:\n",
    "        rlst.append(len(i))\n",
    "    return rlst\n",
    "# list \n",
    "l = ['samay','tanmay','rider','provider','bye']\n",
    "# mapped list\n",
    "print('mapped list:',maplist_len(l))"
   ]
  },
  {
   "cell_type": "markdown",
   "metadata": {},
   "source": [
    "2.2 Write a Python function which takes a character (i.e. a string of length 1) and returns True if it is a vowel, False otherwise."
   ]
  },
  {
   "cell_type": "code",
   "execution_count": null,
   "metadata": {},
   "outputs": [],
   "source": [
    "def vowel(char):\n",
    "    if char in ['a','e','i','o','u']:\n",
    "        return True\n",
    "    else:\n",
    "        return False\n",
    "# input character\n",
    "v = input('Enter a character:')\n",
    "#printing the character is vowel or not\n",
    "print('the character is a vowel:',vowel(v))\n"
   ]
  },
  {
   "cell_type": "code",
   "execution_count": null,
   "metadata": {},
   "outputs": [],
   "source": []
  },
  {
   "cell_type": "code",
   "execution_count": null,
   "metadata": {},
   "outputs": [],
   "source": []
  }
 ],
 "metadata": {
  "kernelspec": {
   "display_name": "Python 3",
   "language": "python",
   "name": "python3"
  },
  "language_info": {
   "codemirror_mode": {
    "name": "ipython",
    "version": 3
   },
   "file_extension": ".py",
   "mimetype": "text/x-python",
   "name": "python",
   "nbconvert_exporter": "python",
   "pygments_lexer": "ipython3",
   "version": "3.7.4"
  }
 },
 "nbformat": 4,
 "nbformat_minor": 2
}
