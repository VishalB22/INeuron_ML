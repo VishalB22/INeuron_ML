{
 "cells": [
  {
   "cell_type": "markdown",
   "metadata": {},
   "source": [
    "1. Write a function so that the columns of the output matrix are powers of the input vector.\n",
    "The order of the powers is determined by the increasing boolean argument. Specifically, when increasing is False, the i-th output column is the input vector raised element-wise to the power of N - i - 1.\n",
    "\n",
    "HINT: Such a matrix with a geometric progression in each row is named for Alexandre-Theophile Vandermonde."
   ]
  },
  {
   "cell_type": "code",
   "execution_count": 79,
   "metadata": {},
   "outputs": [
    {
     "name": "stdout",
     "output_type": "stream",
     "text": [
      "vandermode matrix when inc = False:\n",
      " [[ 1  1  1]\n",
      " [ 1  2  4]\n",
      " [ 1  3  9]\n",
      " [ 1  4 16]]\n",
      "vandermode matrix when inc = True:\n",
      " [[ 1  1  1]\n",
      " [ 4  2  1]\n",
      " [ 9  3  1]\n",
      " [16  4  1]]\n"
     ]
    }
   ],
   "source": [
    "import numpy as np\n",
    "def vandy(l,n = None,inc=False):\n",
    "    if n == None:\n",
    "        #when n value is not specified it takes the length of the vector\n",
    "        n = len(l)\n",
    "    #when inc = True\n",
    "    if inc == True:\n",
    "        temp = np.array([y**i for y in l for i in range(n)]).reshape(len(l),n)\n",
    "        print('vandermode matrix when inc = False:\\n',temp)\n",
    "    #when inc = False\n",
    "    else:\n",
    "        temp = np.array([y**i for y in l for i in range(n-1,-1,-1)]).reshape(len(l),n)\n",
    "        print('vandermode matrix when inc = True:\\n',temp)\n",
    "    \n",
    "#when Increasing is True\n",
    "vandy([1,2,3,4],3,True)\n",
    "#when Increasing is False\n",
    "vandy([1,2,3,4],3,False) "
   ]
  },
  {
   "cell_type": "markdown",
   "metadata": {},
   "source": [
    "2. Given a sequence of n values x1, x2, ..., xn and a window size k>0, the k-th moving average of the given sequence is defined as follows:\n",
    "The moving average sequence has n-k+1 elements as shown below.\n",
    "\n",
    "The moving averages with k=4 of a ten-value sequence (n=10) is shown below<br>\n",
    "i 1 2 3 4 5 6 7 8 9 10<br>\n",
    "===== == == == == == == == == == ==<br>\n",
    "Input 10 20 30 40 50 60 70 80 90 100<br>\n",
    "y1 25 = (10+20+30+40)/4<br>\n",
    "y2 35 = (20+30+40+50)/4<br>\n",
    "y3 45 = (30+40+50+60)/4<br>\n",
    "y4 55 = (40+50+60+70)/4<br>\n",
    "y5 65 = (50+60+70+80)/4<br>\n",
    "y6 75 = (60+70+80+90)/4<br>\n",
    "y7 85 = (70+80+90+100)/4<br>\n",
    "Thus, the moving average sequence has n-k+1=10-4+1=7 values.<br>\n",
    "\n",
    "\n",
    "Question: Write a function to find moving average in an array over a window:\n",
    "Test it over [3, 5, 7, 2, 8, 10, 11, 65, 72, 81, 99, 100, 150] and window of 3."
   ]
  },
  {
   "cell_type": "code",
   "execution_count": 102,
   "metadata": {},
   "outputs": [
    {
     "name": "stdout",
     "output_type": "stream",
     "text": [
      "moving averages:\n",
      " [5.0, 4.666666666666667, 5.666666666666667, 6.666666666666667, 9.666666666666666, 28.666666666666668, 49.333333333333336, 72.66666666666667, 84.0, 93.33333333333333, 116.33333333333333]\n"
     ]
    }
   ],
   "source": [
    "def moving_averages(l,k):\n",
    "    n = len(l)\n",
    "    ma_list = [np.mean(l[i:i+k]) for i in range(n-k+1)]\n",
    "    print('moving averages:\\n',ma_list)\n",
    "#caluclating moving averages for z with window size of w =3\n",
    "z = [3, 5, 7, 2, 8, 10, 11, 65, 72, 81, 99, 100, 150]\n",
    "w = 3\n",
    "moving_averages(z,w)       "
   ]
  },
  {
   "cell_type": "code",
   "execution_count": null,
   "metadata": {},
   "outputs": [],
   "source": []
  }
 ],
 "metadata": {
  "kernelspec": {
   "display_name": "Python 3",
   "language": "python",
   "name": "python3"
  },
  "language_info": {
   "codemirror_mode": {
    "name": "ipython",
    "version": 3
   },
   "file_extension": ".py",
   "mimetype": "text/x-python",
   "name": "python",
   "nbconvert_exporter": "python",
   "pygments_lexer": "ipython3",
   "version": "3.7.4"
  }
 },
 "nbformat": 4,
 "nbformat_minor": 2
}
